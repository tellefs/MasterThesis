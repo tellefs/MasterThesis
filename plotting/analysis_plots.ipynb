{
 "cells": [
  {
   "cell_type": "code",
   "execution_count": 1,
   "metadata": {},
   "outputs": [],
   "source": [
    "import numpy as np\n",
    "import matplotlib.pyplot as plt\n",
    "import ompy as om\n",
    "import logging\n",
    "import pandas as pd\n",
    "import json\n",
    "\n",
    "import scipy as sp\n",
    "#%matplotlib widget\n",
    "from ipywidgets import widgets #interact, interactive, fixed, interact_manual\n",
    "\n",
    "from matplotlib.ticker import (MultipleLocator, FormatStrFormatter,\n",
    "                               AutoMinorLocator)"
   ]
  },
  {
   "cell_type": "code",
   "execution_count": 2,
   "metadata": {},
   "outputs": [],
   "source": [
    "om.__full_version__;\n",
    "# For reproducability we seed the random generator.\n",
    "# Note that by default several other classes in ompy, such as all\n",
    "# classes with multinest calculations have a default seed, too\n",
    "np.random.seed(1382398)"
   ]
  },
  {
   "cell_type": "code",
   "execution_count": 3,
   "metadata": {},
   "outputs": [],
   "source": [
    "plt.rcParams[\"figure.dpi\"] = 80\n",
    "plt.rcParams[\"errorbar.capsize\"] = 5\n",
    "plt.rcParams[\"figure.figsize\"] = (10,8)\n",
    "plt.rcParams['font.size'] = 25\n",
    "plt.rcParams['xtick.major.size'] = 12\n",
    "plt.rcParams['xtick.minor.size'] = 5\n",
    "plt.rcParams['xtick.major.width'] = 2\n",
    "plt.rcParams['xtick.minor.width'] = 2\n",
    "plt.rcParams['ytick.major.size'] = 12\n",
    "plt.rcParams['ytick.minor.size'] = 5\n",
    "plt.rcParams['ytick.major.width'] = 2\n",
    "plt.rcParams['ytick.minor.width'] = 2\n",
    "plt.rcParams['savefig.dpi'] = 100\n",
    "plt.rcParams['lines.linewidth'] = 3.0\n",
    "plt.rcParams['axes.linewidth'] = 1.5"
   ]
  },
  {
   "cell_type": "markdown",
   "metadata": {},
   "source": [
    "Import $\\gamma$SF and NLD from Oslo Method"
   ]
  },
  {
   "cell_type": "code",
   "execution_count": 4,
   "metadata": {},
   "outputs": [],
   "source": [
    "strength_nrm = np.genfromtxt(\"../analysis/mama/strength.nrm\")\n",
    "gsf_om = strength_nrm[18:60]\n",
    "gsf_om_error = strength_nrm[79:-1]\n",
    "n_d = len(gsf_om)\n",
    "\n",
    "discrete_levels = np.genfromtxt(\"../analysis/mama/rholev.cnt\") #Discrete levels \n",
    "rhopaw = np.genfromtxt(\"../analysis/mama/rhopaw.cnt\") #experimental level density\n",
    "fermigas = np.genfromtxt(\"../analysis/mama/fermigas.cnt\")\n",
    "\n",
    "nld_om = rhopaw[6:49]\n",
    "nld_om_error = rhopaw[67:110]\n",
    "\n",
    "Sn = 5.762\n",
    "rhoSn = 28.07e6\n",
    "rhoSn_error = 7.02e6\n",
    "\n",
    "#from oslo method normalization\n",
    "a0 = -0.8671\n",
    "a1 = 0.1037\n",
    "energy_gsf_om = np.linspace(999.9, 5252, len(gsf_om))\n",
    "energy_nld_om = np.linspace(0, 5252-999.9, len(nld_om))\n",
    "energy_discrete_levels = np.linspace(0, len(discrete_levels)-1, len(discrete_levels))\n",
    "energy_fermigas = np.linspace(0, len(fermigas)-1, len(fermigas))\n",
    "for i in range(len(gsf_om)):\n",
    "    energy_gsf_om[i] = ((a0 + a1*energy_gsf_om[i])*1e1)*1e-3\n",
    "for i in range(len(nld_om)):\n",
    "    energy_nld_om[i] = ((a0 + a1*energy_nld_om[i])*1e1)*1e-3 \n",
    "for i in range(len(discrete_levels)):\n",
    "    energy_discrete_levels[i] = a0 + a1*energy_discrete_levels[i]\n",
    "for i in range(len(fermigas)):\n",
    "    energy_fermigas[i] = a0 + a1*energy_fermigas[i]\n",
    "    "
   ]
  },
  {
   "cell_type": "markdown",
   "metadata": {},
   "source": [
    "Import $\\gamma$SF and NLD from OmPy"
   ]
  },
  {
   "cell_type": "code",
   "execution_count": 5,
   "metadata": {},
   "outputs": [
    {
     "ename": "FileNotFoundError",
     "evalue": "[Errno 2] No such file or directory: '../analysis/OmPy/normalized_data/ensemble_simnorm_nld_gsf_250_kevperbin/gsf_0.txt'",
     "output_type": "error",
     "traceback": [
      "\u001b[0;31m---------------------------------------------------------------------------\u001b[0m",
      "\u001b[0;31mFileNotFoundError\u001b[0m                         Traceback (most recent call last)",
      "\u001b[0;32m<ipython-input-5-49674c0e2984>\u001b[0m in \u001b[0;36m<module>\u001b[0;34m\u001b[0m\n\u001b[1;32m     28\u001b[0m \u001b[0mpath\u001b[0m \u001b[0;34m=\u001b[0m \u001b[0;34m'../analysis/OmPy/normalized_data/ensemble_simnorm_nld_gsf_250_kevperbin'\u001b[0m\u001b[0;34m\u001b[0m\u001b[0;34m\u001b[0m\u001b[0m\n\u001b[1;32m     29\u001b[0m \u001b[0;34m\u001b[0m\u001b[0m\n\u001b[0;32m---> 30\u001b[0;31m \u001b[0menergy_gsf_ompy\u001b[0m\u001b[0;34m,\u001b[0m \u001b[0mgsf_ompy_median\u001b[0m\u001b[0;34m,\u001b[0m \u001b[0mgsf_ompy_error\u001b[0m\u001b[0;34m,\u001b[0m \u001b[0menergy_nld_ompy\u001b[0m\u001b[0;34m,\u001b[0m \u001b[0mnld_ompy_median\u001b[0m\u001b[0;34m,\u001b[0m \u001b[0mnld_ompy_error\u001b[0m \u001b[0;34m=\u001b[0m \u001b[0mread_ompy\u001b[0m\u001b[0;34m(\u001b[0m\u001b[0mpath\u001b[0m\u001b[0;34m)\u001b[0m\u001b[0;34m\u001b[0m\u001b[0;34m\u001b[0m\u001b[0m\n\u001b[0m",
      "\u001b[0;32m<ipython-input-5-49674c0e2984>\u001b[0m in \u001b[0;36mread_ompy\u001b[0;34m(path)\u001b[0m\n\u001b[1;32m     11\u001b[0m     \u001b[0mpath\u001b[0m \u001b[0mmust\u001b[0m \u001b[0;32mnot\u001b[0m \u001b[0minclude\u001b[0m \u001b[0;34m/\u001b[0m \u001b[0mat\u001b[0m \u001b[0mthe\u001b[0m \u001b[0mend\u001b[0m\u001b[0;34m\u001b[0m\u001b[0;34m\u001b[0m\u001b[0m\n\u001b[1;32m     12\u001b[0m     \"\"\"\n\u001b[0;32m---> 13\u001b[0;31m     \u001b[0menergy_gsf\u001b[0m \u001b[0;34m=\u001b[0m \u001b[0mpd\u001b[0m\u001b[0;34m.\u001b[0m\u001b[0mread_csv\u001b[0m\u001b[0;34m(\u001b[0m\u001b[0mpath\u001b[0m\u001b[0;34m+\u001b[0m\u001b[0;34m'/gsf_0.txt'\u001b[0m\u001b[0;34m,\u001b[0m \u001b[0msep\u001b[0m\u001b[0;34m=\u001b[0m\u001b[0;34m\" \"\u001b[0m\u001b[0;34m,\u001b[0m \u001b[0mheader\u001b[0m\u001b[0;34m=\u001b[0m\u001b[0;32mNone\u001b[0m\u001b[0;34m,\u001b[0m \u001b[0mskiprows\u001b[0m\u001b[0;34m=\u001b[0m\u001b[0;34m[\u001b[0m\u001b[0;36m0\u001b[0m\u001b[0;34m]\u001b[0m\u001b[0;34m)\u001b[0m\u001b[0;34m[\u001b[0m\u001b[0;36m0\u001b[0m\u001b[0;34m]\u001b[0m\u001b[0;34m*\u001b[0m\u001b[0;36m1e-3\u001b[0m\u001b[0;34m\u001b[0m\u001b[0;34m\u001b[0m\u001b[0m\n\u001b[0m\u001b[1;32m     14\u001b[0m     \u001b[0menergy_nld\u001b[0m \u001b[0;34m=\u001b[0m \u001b[0mpd\u001b[0m\u001b[0;34m.\u001b[0m\u001b[0mread_csv\u001b[0m\u001b[0;34m(\u001b[0m\u001b[0mpath\u001b[0m\u001b[0;34m+\u001b[0m\u001b[0;34m'/nld_0.txt'\u001b[0m\u001b[0;34m,\u001b[0m \u001b[0msep\u001b[0m\u001b[0;34m=\u001b[0m\u001b[0;34m\" \"\u001b[0m\u001b[0;34m,\u001b[0m \u001b[0mheader\u001b[0m\u001b[0;34m=\u001b[0m\u001b[0;32mNone\u001b[0m\u001b[0;34m,\u001b[0m \u001b[0mskiprows\u001b[0m\u001b[0;34m=\u001b[0m\u001b[0;34m[\u001b[0m\u001b[0;36m0\u001b[0m\u001b[0;34m]\u001b[0m\u001b[0;34m)\u001b[0m\u001b[0;34m[\u001b[0m\u001b[0;36m0\u001b[0m\u001b[0;34m]\u001b[0m\u001b[0;34m*\u001b[0m\u001b[0;36m1e-3\u001b[0m\u001b[0;34m\u001b[0m\u001b[0;34m\u001b[0m\u001b[0m\n\u001b[1;32m     15\u001b[0m     \u001b[0mgsf\u001b[0m \u001b[0;34m=\u001b[0m \u001b[0mnp\u001b[0m\u001b[0;34m.\u001b[0m\u001b[0mzeros\u001b[0m\u001b[0;34m(\u001b[0m\u001b[0;34m(\u001b[0m\u001b[0;36m99\u001b[0m\u001b[0;34m,\u001b[0m \u001b[0mlen\u001b[0m\u001b[0;34m(\u001b[0m\u001b[0menergy_gsf\u001b[0m\u001b[0;34m)\u001b[0m\u001b[0;34m)\u001b[0m\u001b[0;34m)\u001b[0m\u001b[0;34m\u001b[0m\u001b[0;34m\u001b[0m\u001b[0m\n",
      "\u001b[0;32m~/miniconda3/lib/python3.7/site-packages/pandas/io/parsers.py\u001b[0m in \u001b[0;36mread_csv\u001b[0;34m(filepath_or_buffer, sep, delimiter, header, names, index_col, usecols, squeeze, prefix, mangle_dupe_cols, dtype, engine, converters, true_values, false_values, skipinitialspace, skiprows, skipfooter, nrows, na_values, keep_default_na, na_filter, verbose, skip_blank_lines, parse_dates, infer_datetime_format, keep_date_col, date_parser, dayfirst, cache_dates, iterator, chunksize, compression, thousands, decimal, lineterminator, quotechar, quoting, doublequote, escapechar, comment, encoding, dialect, error_bad_lines, warn_bad_lines, delim_whitespace, low_memory, memory_map, float_precision)\u001b[0m\n\u001b[1;32m    684\u001b[0m     )\n\u001b[1;32m    685\u001b[0m \u001b[0;34m\u001b[0m\u001b[0m\n\u001b[0;32m--> 686\u001b[0;31m     \u001b[0;32mreturn\u001b[0m \u001b[0m_read\u001b[0m\u001b[0;34m(\u001b[0m\u001b[0mfilepath_or_buffer\u001b[0m\u001b[0;34m,\u001b[0m \u001b[0mkwds\u001b[0m\u001b[0;34m)\u001b[0m\u001b[0;34m\u001b[0m\u001b[0;34m\u001b[0m\u001b[0m\n\u001b[0m\u001b[1;32m    687\u001b[0m \u001b[0;34m\u001b[0m\u001b[0m\n\u001b[1;32m    688\u001b[0m \u001b[0;34m\u001b[0m\u001b[0m\n",
      "\u001b[0;32m~/miniconda3/lib/python3.7/site-packages/pandas/io/parsers.py\u001b[0m in \u001b[0;36m_read\u001b[0;34m(filepath_or_buffer, kwds)\u001b[0m\n\u001b[1;32m    450\u001b[0m \u001b[0;34m\u001b[0m\u001b[0m\n\u001b[1;32m    451\u001b[0m     \u001b[0;31m# Create the parser.\u001b[0m\u001b[0;34m\u001b[0m\u001b[0;34m\u001b[0m\u001b[0;34m\u001b[0m\u001b[0m\n\u001b[0;32m--> 452\u001b[0;31m     \u001b[0mparser\u001b[0m \u001b[0;34m=\u001b[0m \u001b[0mTextFileReader\u001b[0m\u001b[0;34m(\u001b[0m\u001b[0mfp_or_buf\u001b[0m\u001b[0;34m,\u001b[0m \u001b[0;34m**\u001b[0m\u001b[0mkwds\u001b[0m\u001b[0;34m)\u001b[0m\u001b[0;34m\u001b[0m\u001b[0;34m\u001b[0m\u001b[0m\n\u001b[0m\u001b[1;32m    453\u001b[0m \u001b[0;34m\u001b[0m\u001b[0m\n\u001b[1;32m    454\u001b[0m     \u001b[0;32mif\u001b[0m \u001b[0mchunksize\u001b[0m \u001b[0;32mor\u001b[0m \u001b[0miterator\u001b[0m\u001b[0;34m:\u001b[0m\u001b[0;34m\u001b[0m\u001b[0;34m\u001b[0m\u001b[0m\n",
      "\u001b[0;32m~/miniconda3/lib/python3.7/site-packages/pandas/io/parsers.py\u001b[0m in \u001b[0;36m__init__\u001b[0;34m(self, f, engine, **kwds)\u001b[0m\n\u001b[1;32m    934\u001b[0m             \u001b[0mself\u001b[0m\u001b[0;34m.\u001b[0m\u001b[0moptions\u001b[0m\u001b[0;34m[\u001b[0m\u001b[0;34m\"has_index_names\"\u001b[0m\u001b[0;34m]\u001b[0m \u001b[0;34m=\u001b[0m \u001b[0mkwds\u001b[0m\u001b[0;34m[\u001b[0m\u001b[0;34m\"has_index_names\"\u001b[0m\u001b[0;34m]\u001b[0m\u001b[0;34m\u001b[0m\u001b[0;34m\u001b[0m\u001b[0m\n\u001b[1;32m    935\u001b[0m \u001b[0;34m\u001b[0m\u001b[0m\n\u001b[0;32m--> 936\u001b[0;31m         \u001b[0mself\u001b[0m\u001b[0;34m.\u001b[0m\u001b[0m_make_engine\u001b[0m\u001b[0;34m(\u001b[0m\u001b[0mself\u001b[0m\u001b[0;34m.\u001b[0m\u001b[0mengine\u001b[0m\u001b[0;34m)\u001b[0m\u001b[0;34m\u001b[0m\u001b[0;34m\u001b[0m\u001b[0m\n\u001b[0m\u001b[1;32m    937\u001b[0m \u001b[0;34m\u001b[0m\u001b[0m\n\u001b[1;32m    938\u001b[0m     \u001b[0;32mdef\u001b[0m \u001b[0mclose\u001b[0m\u001b[0;34m(\u001b[0m\u001b[0mself\u001b[0m\u001b[0;34m)\u001b[0m\u001b[0;34m:\u001b[0m\u001b[0;34m\u001b[0m\u001b[0;34m\u001b[0m\u001b[0m\n",
      "\u001b[0;32m~/miniconda3/lib/python3.7/site-packages/pandas/io/parsers.py\u001b[0m in \u001b[0;36m_make_engine\u001b[0;34m(self, engine)\u001b[0m\n\u001b[1;32m   1166\u001b[0m     \u001b[0;32mdef\u001b[0m \u001b[0m_make_engine\u001b[0m\u001b[0;34m(\u001b[0m\u001b[0mself\u001b[0m\u001b[0;34m,\u001b[0m \u001b[0mengine\u001b[0m\u001b[0;34m=\u001b[0m\u001b[0;34m\"c\"\u001b[0m\u001b[0;34m)\u001b[0m\u001b[0;34m:\u001b[0m\u001b[0;34m\u001b[0m\u001b[0;34m\u001b[0m\u001b[0m\n\u001b[1;32m   1167\u001b[0m         \u001b[0;32mif\u001b[0m \u001b[0mengine\u001b[0m \u001b[0;34m==\u001b[0m \u001b[0;34m\"c\"\u001b[0m\u001b[0;34m:\u001b[0m\u001b[0;34m\u001b[0m\u001b[0;34m\u001b[0m\u001b[0m\n\u001b[0;32m-> 1168\u001b[0;31m             \u001b[0mself\u001b[0m\u001b[0;34m.\u001b[0m\u001b[0m_engine\u001b[0m \u001b[0;34m=\u001b[0m \u001b[0mCParserWrapper\u001b[0m\u001b[0;34m(\u001b[0m\u001b[0mself\u001b[0m\u001b[0;34m.\u001b[0m\u001b[0mf\u001b[0m\u001b[0;34m,\u001b[0m \u001b[0;34m**\u001b[0m\u001b[0mself\u001b[0m\u001b[0;34m.\u001b[0m\u001b[0moptions\u001b[0m\u001b[0;34m)\u001b[0m\u001b[0;34m\u001b[0m\u001b[0;34m\u001b[0m\u001b[0m\n\u001b[0m\u001b[1;32m   1169\u001b[0m         \u001b[0;32melse\u001b[0m\u001b[0;34m:\u001b[0m\u001b[0;34m\u001b[0m\u001b[0;34m\u001b[0m\u001b[0m\n\u001b[1;32m   1170\u001b[0m             \u001b[0;32mif\u001b[0m \u001b[0mengine\u001b[0m \u001b[0;34m==\u001b[0m \u001b[0;34m\"python\"\u001b[0m\u001b[0;34m:\u001b[0m\u001b[0;34m\u001b[0m\u001b[0;34m\u001b[0m\u001b[0m\n",
      "\u001b[0;32m~/miniconda3/lib/python3.7/site-packages/pandas/io/parsers.py\u001b[0m in \u001b[0;36m__init__\u001b[0;34m(self, src, **kwds)\u001b[0m\n\u001b[1;32m   1996\u001b[0m         \u001b[0mkwds\u001b[0m\u001b[0;34m[\u001b[0m\u001b[0;34m\"usecols\"\u001b[0m\u001b[0;34m]\u001b[0m \u001b[0;34m=\u001b[0m \u001b[0mself\u001b[0m\u001b[0;34m.\u001b[0m\u001b[0musecols\u001b[0m\u001b[0;34m\u001b[0m\u001b[0;34m\u001b[0m\u001b[0m\n\u001b[1;32m   1997\u001b[0m \u001b[0;34m\u001b[0m\u001b[0m\n\u001b[0;32m-> 1998\u001b[0;31m         \u001b[0mself\u001b[0m\u001b[0;34m.\u001b[0m\u001b[0m_reader\u001b[0m \u001b[0;34m=\u001b[0m \u001b[0mparsers\u001b[0m\u001b[0;34m.\u001b[0m\u001b[0mTextReader\u001b[0m\u001b[0;34m(\u001b[0m\u001b[0msrc\u001b[0m\u001b[0;34m,\u001b[0m \u001b[0;34m**\u001b[0m\u001b[0mkwds\u001b[0m\u001b[0;34m)\u001b[0m\u001b[0;34m\u001b[0m\u001b[0;34m\u001b[0m\u001b[0m\n\u001b[0m\u001b[1;32m   1999\u001b[0m         \u001b[0mself\u001b[0m\u001b[0;34m.\u001b[0m\u001b[0munnamed_cols\u001b[0m \u001b[0;34m=\u001b[0m \u001b[0mself\u001b[0m\u001b[0;34m.\u001b[0m\u001b[0m_reader\u001b[0m\u001b[0;34m.\u001b[0m\u001b[0munnamed_cols\u001b[0m\u001b[0;34m\u001b[0m\u001b[0;34m\u001b[0m\u001b[0m\n\u001b[1;32m   2000\u001b[0m \u001b[0;34m\u001b[0m\u001b[0m\n",
      "\u001b[0;32mpandas/_libs/parsers.pyx\u001b[0m in \u001b[0;36mpandas._libs.parsers.TextReader.__cinit__\u001b[0;34m()\u001b[0m\n",
      "\u001b[0;32mpandas/_libs/parsers.pyx\u001b[0m in \u001b[0;36mpandas._libs.parsers.TextReader._setup_parser_source\u001b[0;34m()\u001b[0m\n",
      "\u001b[0;31mFileNotFoundError\u001b[0m: [Errno 2] No such file or directory: '../analysis/OmPy/normalized_data/ensemble_simnorm_nld_gsf_250_kevperbin/gsf_0.txt'"
     ]
    }
   ],
   "source": [
    "def getMedianQuantile(func):\n",
    "    func = pd.DataFrame(func)\n",
    "    func_median = pd.DataFrame.median(func)\n",
    "    func_error_low = func.quantile(0.16)\n",
    "    func_error_high = func.quantile(0.84)\n",
    "    func_error = func_error_high - func_error_low\n",
    "    return func_median, func_error\n",
    "\n",
    "def read_ompy(path):\n",
    "    \"\"\"\n",
    "    path must not include / at the end\n",
    "    \"\"\"\n",
    "    energy_gsf = pd.read_csv(path+'/gsf_0.txt', sep=\" \", header=None, skiprows=[0])[0]*1e-3\n",
    "    energy_nld = pd.read_csv(path+'/nld_0.txt', sep=\" \", header=None, skiprows=[0])[0]*1e-3\n",
    "    gsf = np.zeros((99, len(energy_gsf)))\n",
    "    nld = np.zeros((99, len(energy_nld)))\n",
    "    \n",
    "    for i in range(99):\n",
    "        if i != 76:\n",
    "            gsf[i] = pd.read_csv(path+'/gsf_%.0i.txt'%i, sep=\" \", header=None, skiprows=[0])[1]\n",
    "            nld[i] = pd.read_csv(path+'/nld_%.0i.txt'%i, sep=\" \", header=None, skiprows=[0])[1]\n",
    "    \n",
    "    gsf_median, gsf_error = getMedianQuantile(gsf)\n",
    "    nld_median, nld_error = getMedianQuantile(nld)\n",
    "    \n",
    "    return energy_gsf, gsf_median, gsf_error, energy_nld, nld_median, nld_error\n",
    "\n",
    "path = '../analysis/OmPy/normalized_data/ensemble_simnorm_nld_gsf_250_kevperbin'\n",
    "\n",
    "energy_gsf_ompy, gsf_ompy_median, gsf_ompy_error, energy_nld_ompy, nld_ompy_median, nld_ompy_error = read_ompy(path)"
   ]
  },
  {
   "cell_type": "markdown",
   "metadata": {},
   "source": [
    "Import and convert experimental data from EXFOR\n",
    "\n",
    "(I dont think i need this, since none of the exfor data is the right reaction)"
   ]
  },
  {
   "cell_type": "code",
   "execution_count": null,
   "metadata": {},
   "outputs": [],
   "source": [
    "with open('U233_exp_data.json') as K:\n",
    "    data_U233 = json.load(K)\n",
    "datasets_U233=data_U233[\"datasets\"]\n",
    "\n",
    "\n",
    "\n",
    "\n",
    "def cs_to_gsf(Eg, data):\n",
    "    # input in MeV and milibarn -> use this conversion factor.\n",
    "    exp = 8.684e-8# DOBBELTSJEKK TALLET! # pi**2 * hbar**2 * c**2\n",
    "    return data*exp/Eg\n",
    "\n",
    "def extract_JSON(data, x_i,y_i,yerror_i):\n",
    "    \"\"\" Extracting data from input files from MAMA, adding them to useful arrays.\"\"\"\n",
    "    x = []; y = [] ; yerror = []\n",
    "\n",
    "    for j in range(len(data)):\n",
    "        y.append(data[j][y_i]) # MeV\n",
    "        yerror.append(data[j][yerror_i]) # MeV\n",
    "        x.append(data[j][x_i])\n",
    "\n",
    "    x = np.array(x) ; y = np.array(y) ; yerror = np.array(yerror)\n",
    "    return x,y,yerror\n",
    "\n",
    "\n",
    "\n",
    "energy_exp1, gsf_exp1, gsf_exp1_error =  extract_JSON(datasets_U233[0]['data'], 0, 2, 3)\n",
    "gsf_exp1 = cs_to_gsf(energy_exp1, gsf_exp1)\n",
    "gsf_exp1_error = cs_to_gsf(energy_exp1, gsf_exp1_error)\n",
    "\n",
    "energy_exp2, gsf_exp2, gsf_exp2_error =  extract_JSON(datasets_U233[1]['data'], 0, 2, 3)\n",
    "gsf_exp2 = cs_to_gsf(energy_exp2, gsf_exp2)\n",
    "gsf_exp2_error = cs_to_gsf(energy_exp2, gsf_exp2_error)\n",
    "\n",
    "energy_exp3, gsf_exp3, gsf_exp3_error =  extract_JSON(datasets_U233[2]['data'], 0, 2, 3)\n",
    "gsf_exp3 = cs_to_gsf(energy_exp3, gsf_exp3)\n",
    "gsf_exp3_error = cs_to_gsf(energy_exp3, gsf_exp3_error)\n"
   ]
  },
  {
   "cell_type": "markdown",
   "metadata": {},
   "source": [
    "Comparison with theorietical GEDR models (Giant Electric Dipole Resonance)"
   ]
  },
  {
   "cell_type": "code",
   "execution_count": null,
   "metadata": {},
   "outputs": [],
   "source": []
  },
  {
   "cell_type": "code",
   "execution_count": null,
   "metadata": {},
   "outputs": [],
   "source": [
    "fig, ax = plt.subplots()\n",
    "ax.errorbar(x=energy_gsf_om, y=gsf_om, yerr=gsf_om_error, marker='o', linestyle='')\n",
    "ax.errorbar(x=energy_gsf_ompy, y=gsf_ompy_median, yerr=gsf_ompy_error, marker='o', linestyle='')\n",
    "\n",
    "#ax.errorbar(energy_exp1, gsf_exp1, yerr=gsf_exp1_error, x_err=None, fmt=\"o\", color='green', label=\"\")\n",
    "#ax.errorbar(energy_exp2, gsf_exp2, yerr=gsf_exp2_error, x_err=None, fmt=\"o\", color='red', label=\"\")\n",
    "#ax.errorbar(energy_exp3, gsf_exp3, yerr=gsf_exp3_error, x_err=None, fmt=\"o\", color='blue', label=\"\")\n",
    "\n",
    "\n",
    "#ax.set_ylim(1e-9, 2e-6)\n",
    "ax.set_xlim(0, 7)\n",
    "ax.set_yscale('log')\n",
    "ax.yaxis.set_minor_locator(AutoMinorLocator())\n",
    "ax.xaxis.set_minor_locator(AutoMinorLocator())\n",
    "ax.set_xlabel('$\\gamma$ Energy [MeV]')\n",
    "ax.set_ylabel('$\\gamma$SF')\n",
    "\n",
    "fig.show()"
   ]
  },
  {
   "cell_type": "code",
   "execution_count": null,
   "metadata": {},
   "outputs": [],
   "source": [
    "fig, ax = plt.subplots()\n",
    "ax.errorbar(x=Sn, y=rhoSn, yerr=rhoSn_error, marker='s', linestyle='')\n",
    "ax.errorbar(x=energy_nld_om, y=nld_om, yerr=nld_om_error, marker='^', linestyle='')\n",
    "ax.errorbar(x=energy_nld_ompy, y=nld_ompy_median, yerr=nld_ompy_error, marker='o', linestyle='')\n",
    "ax.set_yscale('log')\n",
    "\n",
    "plt.plot(energy_fermigas[20:65], fermigas[20:65], \"--\", color=\"#D65108\", label=\"CT interpolation\")\n",
    "\n",
    "plt.plot(energy_discrete_levels, discrete_levels, color=\"#D65108\", label=\"Known levels\")\n",
    "\n",
    "ax.yaxis.set_minor_locator(AutoMinorLocator())\n",
    "ax.xaxis.set_minor_locator(AutoMinorLocator())\n",
    "ax.set_xlabel('Excitation Energy [MeV]')\n",
    "ax.set_ylabel('Nuclear Level Density')\n",
    "\n",
    "fig.show()\n"
   ]
  },
  {
   "cell_type": "code",
   "execution_count": null,
   "metadata": {},
   "outputs": [],
   "source": []
  }
 ],
 "metadata": {
  "kernelspec": {
   "display_name": "Python 3",
   "language": "python",
   "name": "python3"
  },
  "language_info": {
   "codemirror_mode": {
    "name": "ipython",
    "version": 3
   },
   "file_extension": ".py",
   "mimetype": "text/x-python",
   "name": "python",
   "nbconvert_exporter": "python",
   "pygments_lexer": "ipython3",
   "version": "3.7.4"
  }
 },
 "nbformat": 4,
 "nbformat_minor": 4
}
