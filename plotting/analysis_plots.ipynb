{
 "cells": [
  {
   "cell_type": "code",
   "execution_count": 1,
   "metadata": {},
   "outputs": [],
   "source": [
    "import numpy as np\n",
    "import scipy.constants as spc\n",
    "import matplotlib.pyplot as plt\n",
    "import ompy as om\n",
    "import logging\n",
    "import pandas as pd\n",
    "import json\n",
    "\n",
    "import scipy as sp\n",
    "#%matplotlib widget\n",
    "from ipywidgets import widgets #interact, interactive, fixed, interact_manual\n",
    "\n",
    "from matplotlib.ticker import (MultipleLocator, FormatStrFormatter,\n",
    "                               AutoMinorLocator)"
   ]
  },
  {
   "cell_type": "code",
   "execution_count": 2,
   "metadata": {},
   "outputs": [],
   "source": [
    "om.__full_version__;\n",
    "# For reproducability we seed the random generator.\n",
    "# Note that by default several other classes in ompy, such as all\n",
    "# classes with multinest calculations have a default seed, too\n",
    "np.random.seed(1382398)"
   ]
  },
  {
   "cell_type": "code",
   "execution_count": 3,
   "metadata": {},
   "outputs": [],
   "source": [
    "plt.rcParams[\"figure.dpi\"] = 80\n",
    "plt.rcParams[\"errorbar.capsize\"] = 5\n",
    "plt.rcParams[\"figure.figsize\"] = (10,8)\n",
    "plt.rcParams['font.size'] = 25\n",
    "plt.rcParams['xtick.major.size'] = 12\n",
    "plt.rcParams['xtick.minor.size'] = 5\n",
    "plt.rcParams['xtick.major.width'] = 2\n",
    "plt.rcParams['xtick.minor.width'] = 2\n",
    "plt.rcParams['ytick.major.size'] = 12\n",
    "plt.rcParams['ytick.minor.size'] = 5\n",
    "plt.rcParams['ytick.major.width'] = 2\n",
    "plt.rcParams['ytick.minor.width'] = 2\n",
    "plt.rcParams['savefig.dpi'] = 100\n",
    "plt.rcParams['lines.linewidth'] = 3.0\n",
    "plt.rcParams['axes.linewidth'] = 1.5"
   ]
  },
  {
   "cell_type": "markdown",
   "metadata": {},
   "source": [
    "Import $\\gamma$SF and NLD from Oslo Method"
   ]
  },
  {
   "cell_type": "code",
   "execution_count": 4,
   "metadata": {},
   "outputs": [],
   "source": [
    "strength_nrm = np.genfromtxt(\"../analysis/mama/strength.nrm\")\n",
    "gsf_om = strength_nrm[18:60]\n",
    "gsf_om_error = strength_nrm[79:-1]\n",
    "n_d = len(gsf_om)\n",
    "\n",
    "discrete_levels = np.genfromtxt(\"../analysis/mama/rholev.cnt\") #Discrete levels \n",
    "rhopaw = np.genfromtxt(\"../analysis/mama/rhopaw.cnt\") #experimental level density\n",
    "fermigas = np.genfromtxt(\"../analysis/mama/fermigas.cnt\")\n",
    "\n",
    "nld_om = rhopaw[6:49]\n",
    "nld_om_error = rhopaw[67:110]\n",
    "\n",
    "Sn = 5.762\n",
    "rhoSn = 28.07e6\n",
    "rhoSn_error = 7.02e6\n",
    "\n",
    "#from oslo method normalization\n",
    "a0 = -0.8671\n",
    "a1 = 0.1037\n",
    "energy_gsf_om = np.linspace(999.9, 5252, len(gsf_om))\n",
    "energy_nld_om = np.linspace(0, 5252-999.9, len(nld_om))\n",
    "energy_discrete_levels = np.linspace(0, len(discrete_levels)-1, len(discrete_levels))\n",
    "energy_fermigas = np.linspace(0, len(fermigas)-1, len(fermigas))\n",
    "for i in range(len(gsf_om)):\n",
    "    energy_gsf_om[i] = ((a0 + a1*energy_gsf_om[i])*1e1)*1e-3\n",
    "for i in range(len(nld_om)):\n",
    "    energy_nld_om[i] = ((a0 + a1*energy_nld_om[i])*1e1)*1e-3 \n",
    "for i in range(len(discrete_levels)):\n",
    "    energy_discrete_levels[i] = a0 + a1*energy_discrete_levels[i]\n",
    "for i in range(len(fermigas)):\n",
    "    energy_fermigas[i] = a0 + a1*energy_fermigas[i]\n",
    "    "
   ]
  },
  {
   "cell_type": "markdown",
   "metadata": {},
   "source": [
    "Import $\\gamma$SF and NLD from OmPy"
   ]
  },
  {
   "cell_type": "code",
   "execution_count": 5,
   "metadata": {},
   "outputs": [],
   "source": [
    "def getMedianQuantile(func):\n",
    "    func = pd.DataFrame(func)\n",
    "    func_median = pd.DataFrame.median(func)\n",
    "    func_error_low = func.quantile(0.16)\n",
    "    func_error_high = func.quantile(0.84)\n",
    "    func_error = func_error_high - func_error_low\n",
    "    return func_median, func_error\n",
    "\n",
    "def read_ompy(path):\n",
    "    \"\"\"\n",
    "    path must not include / at the end\n",
    "    \"\"\"\n",
    "    energy_gsf = pd.read_csv(path+'/gsf_0.txt', sep=\" \", header=None, skiprows=[0])[0]*1e-3\n",
    "    energy_nld = pd.read_csv(path+'/nld_0.txt', sep=\" \", header=None, skiprows=[0])[0]*1e-3\n",
    "    gsf = np.zeros((99, len(energy_gsf)))\n",
    "    nld = np.zeros((99, len(energy_nld)))\n",
    "    \n",
    "    for i in range(99):\n",
    "        if i != 76:\n",
    "            gsf[i] = pd.read_csv(path+'/gsf_%.0i.txt'%i, sep=\" \", header=None, skiprows=[0])[1]\n",
    "            nld[i] = pd.read_csv(path+'/nld_%.0i.txt'%i, sep=\" \", header=None, skiprows=[0])[1]\n",
    "    \n",
    "    gsf_median, gsf_error = getMedianQuantile(gsf)\n",
    "    nld_median, nld_error = getMedianQuantile(nld)\n",
    "    \n",
    "    return energy_gsf, gsf_median, gsf_error, energy_nld, nld_median, nld_error\n",
    "\n",
    "path = '../analysis/OmPy/normalized_data/ensemble_simnorm_nld_gsf_250_kevperbin'\n",
    "\n",
    "energy_gsf_ompy, gsf_ompy_median, gsf_ompy_error, energy_nld_ompy, nld_ompy_median, nld_ompy_error = read_ompy(path)"
   ]
  },
  {
   "cell_type": "markdown",
   "metadata": {},
   "source": [
    "Import and convert experimental data from EXFOR\n",
    "\n",
    "(I dont think i need this, since none of the exfor data is the right reaction)"
   ]
  },
  {
   "cell_type": "code",
   "execution_count": 6,
   "metadata": {},
   "outputs": [],
   "source": [
    "with open('U233_exp_data.json') as K:\n",
    "    data_U233 = json.load(K)\n",
    "datasets_U233=data_U233[\"datasets\"]\n",
    "\n",
    "\n",
    "\n",
    "\n",
    "def cs_to_gsf(Eg, data):\n",
    "    # input in MeV and milibarn -> use this conversion factor.\n",
    "    exp = 8.684e-8# DOBBELTSJEKK TALLET! # pi**2 * hbar**2 * c**2\n",
    "    return data*exp/Eg\n",
    "\n",
    "def extract_JSON(data, x_i,y_i,yerror_i):\n",
    "    \"\"\" Extracting data from input files from MAMA, adding them to useful arrays.\"\"\"\n",
    "    x = []; y = [] ; yerror = []\n",
    "\n",
    "    for j in range(len(data)):\n",
    "        y.append(data[j][y_i]) # MeV\n",
    "        yerror.append(data[j][yerror_i]) # MeV\n",
    "        x.append(data[j][x_i])\n",
    "\n",
    "    x = np.array(x) ; y = np.array(y) ; yerror = np.array(yerror)\n",
    "    return x,y,yerror\n",
    "\n",
    "\n",
    "\n",
    "energy_exp1, gsf_exp1, gsf_exp1_error =  extract_JSON(datasets_U233[0]['data'], 0, 2, 3)\n",
    "gsf_exp1 = cs_to_gsf(energy_exp1, gsf_exp1)\n",
    "gsf_exp1_error = cs_to_gsf(energy_exp1, gsf_exp1_error)\n",
    "\n",
    "energy_exp2, gsf_exp2, gsf_exp2_error =  extract_JSON(datasets_U233[1]['data'], 0, 2, 3)\n",
    "gsf_exp2 = cs_to_gsf(energy_exp2, gsf_exp2)\n",
    "gsf_exp2_error = cs_to_gsf(energy_exp2, gsf_exp2_error)\n",
    "\n",
    "energy_exp3, gsf_exp3, gsf_exp3_error =  extract_JSON(datasets_U233[2]['data'], 0, 2, 3)\n",
    "gsf_exp3 = cs_to_gsf(energy_exp3, gsf_exp3)\n",
    "gsf_exp3_error = cs_to_gsf(energy_exp3, gsf_exp3_error)\n"
   ]
  },
  {
   "cell_type": "markdown",
   "metadata": {},
   "source": [
    "Comparison with theorietical GEDR models (Giant Electric Dipole Resonance)"
   ]
  },
  {
   "cell_type": "raw",
   "metadata": {},
   "source": [
    "From RIPL-3:\n",
    "\n",
    "Experimental GDR Parameters calculated within standard Lorentzian model (SLO) \n",
    "-----------------------------------------------------------------------------\n",
    "   Z  A El Reac  E1    CS1      W1    E2    CS2     W2  E_{min}-E{max} Ref.   \n",
    "                Err    Err     Err   Err    Err    Err                (see   \n",
    "               [MeV]  [mb]    [MeV] [MeV]  [mb]   [MeV]     [MeV]     readme)\n",
    "-----------------------------------------------------------------------------\n",
    "  92 233 U   9 11.10  313.5   1.78  13.97  958.4   5.26   9.0 - 17.8  86Be2\n",
    "-----------------------------------------------------------------------------\n",
    "\n",
    "Experimental GDR Parameters calculated within modified Lorentzian model (MLO) \n",
    "-----------------------------------------------------------------------------\n",
    "   Z  A El Reac  E1    CS1      W1    E2    CS2     W2  E_{min}-E{max} Ref.   \n",
    "                Err    Err     Err   Err    Err    Err                (see   \n",
    "               [MeV]  [mb]    [MeV] [MeV]  [mb]   [MeV]     [MeV]     readme)\n",
    "-----------------------------------------------------------------------------\n",
    "  92 233 U   9 11.14  399.5   2.51  14.20  893.7   5.17   9.0 - 17.8  86Be2\n",
    "-----------------------------------------------------------------------------\n",
    "\n",
    "Theoretical Predictions of GDR Parameters\n",
    "------------------------------------------------\n",
    "   Z   A El    Eta    E1     G1     E2     G2\n",
    "                    [MeV]  [MeV]  [MeV]  [MeV] \n",
    "------------------------------------------------\n",
    "  92 233 U   1.340  10.80   2.43  14.14   3.91\n",
    "------------------------------------------------"
   ]
  },
  {
   "cell_type": "code",
   "execution_count": 21,
   "metadata": {},
   "outputs": [],
   "source": [
    "#declare constants \n",
    "\n",
    "Gamma_r1 = 1.78 #FWHM of resonance\n",
    "E_r1 = 11.10 #energy of resonance\n",
    "sigma_r1 = 313.5 #cross section of resonance\n",
    "\n",
    "\n",
    "Gamma_r2 = 5.26\n",
    "E_r2 = 13.97\n",
    "sigma_r2 = 958.4\n",
    "\n",
    "factor = 8.684e-8 # pi**2 * hbar**2 * c**2 in in mb^(-1) MeV^(-2)\n",
    "\n",
    "\n",
    "T_f = 1 #temperature of final states\n",
    "hbar = spc.hbar\n",
    "c = spc.c\n",
    "\n",
    "#declare functions\n",
    "\n",
    "def SLo(E_gamma, Gamma_r, E_r, sigma_r):\n",
    "    \"\"\"\n",
    "    Standard Lorentzian\n",
    "    \"\"\"\n",
    "    denominator = (E_gamma**2 - E_r**2)**2 + Gamma_r**2 * E_gamma**2\n",
    "    \n",
    "    return factor * sigma_r * Gamma_r**2 * E_gamma /denominator\n",
    "\n",
    "\n",
    "#double StandLor(double E_g, double E_r, double Gamma_r, double sigma_r){\n",
    "#\tdouble SLo = 0.;\n",
    "#\tdouble denominator = (pow(E_g,2.0) - pow(E_r,2.0))*(pow(E_g,2.0) - pow(E_r,2.0)) + pow(Gamma_r,2.0)*pow(E_g,2.0);\n",
    "\t\n",
    "#\tSLo = factor*sigma_r*pow(Gamma_r,2.0)*E_g/denominator;\n",
    "#\treturn SLo;\n",
    "\n",
    "\n",
    "\n",
    "def EGLo(E_gamma):\n",
    "    \"\"\"\n",
    "    Enhanced Generalized Lorentzian\n",
    "    \"\"\"\n",
    "    Gamma = Gamma_r * (E_gamma**2 + 4 * np.pi**2 * T_f**2) / E_r**3\n",
    "    Gamma_zero = Gamma_r * (4 * np.pi**2 * T_f**2) / E_r**3\n",
    "    factor = sigma_r * Gamma_r / (3 * np.pi * hbar**2 * c**2)\n",
    "    A = E_gamma * Gamma / ( (E_gamma**2 + E_r**2)**2 + E_gamma**2 * Gamma**2 )\n",
    "    B = 0.7 * Gamma_zero / E_r**3\n",
    "    return factor * (A + B)\n",
    "\n",
    "\n",
    "\n"
   ]
  },
  {
   "cell_type": "code",
   "execution_count": 22,
   "metadata": {},
   "outputs": [
    {
     "data": {
      "image/png": "[encoded data removed]",
      "text/plain": [
       "<Figure size 800x640 with 1 Axes>"
      ]
     },
     "metadata": {
      "needs_background": "light"
     },
     "output_type": "display_data"
    }
   ],
   "source": [
    "fig, ax = plt.subplots()\n",
    "\n",
    "#This experiment\n",
    "ax.errorbar(x=energy_gsf_om, y=gsf_om, yerr=gsf_om_error, marker='o', linestyle='')\n",
    "ax.errorbar(x=energy_gsf_ompy, y=gsf_ompy_median, yerr=gsf_ompy_error, marker='o', linestyle='')\n",
    "\n",
    "#Experimental\n",
    "#ax.errorbar(energy_exp1, gsf_exp1, yerr=gsf_exp1_error, x_err=None, fmt=\"o\", color='green', label=\"\")\n",
    "#ax.errorbar(energy_exp2, gsf_exp2, yerr=gsf_exp2_error, x_err=None, fmt=\"o\", color='red', label=\"\")\n",
    "#ax.errorbar(energy_exp3, gsf_exp3, yerr=gsf_exp3_error, x_err=None, fmt=\"o\", color='blue', label=\"\")\n",
    "\n",
    "#Theoretical\n",
    "energy_plotting = np.linspace(0, 16, 100)\n",
    "ax.plot(energy_plotting, SLo(energy_plotting, Gamma_r1, E_r1, sigma_r1) + SLo(energy_plotting, Gamma_r2, E_r2, sigma_r2))\n",
    "\n",
    "\n",
    "#ax.set_ylim(1e-9, 2e-6)\n",
    "#ax.set_ylim(1e47, 1e53)\n",
    "#ax.set_xlim(0, 7)\n",
    "ax.set_yscale('log')\n",
    "ax.yaxis.set_minor_locator(AutoMinorLocator())\n",
    "ax.xaxis.set_minor_locator(AutoMinorLocator())\n",
    "ax.set_xlabel('$\\gamma$ Energy [MeV]')\n",
    "ax.set_ylabel('$\\gamma$SF')\n",
    "\n",
    "fig.show()"
   ]
  },
  {
   "cell_type": "code",
   "execution_count": null,
   "metadata": {},
   "outputs": [],
   "source": [
    "fig, ax = plt.subplots()\n",
    "ax.errorbar(x=Sn, y=rhoSn, yerr=rhoSn_error, marker='s', linestyle='')\n",
    "ax.errorbar(x=energy_nld_om, y=nld_om, yerr=nld_om_error, marker='^', linestyle='')\n",
    "ax.errorbar(x=energy_nld_ompy, y=nld_ompy_median, yerr=nld_ompy_error, marker='o', linestyle='')\n",
    "ax.set_yscale('log')\n",
    "\n",
    "plt.plot(energy_fermigas[20:65], fermigas[20:65], \"--\", color=\"#D65108\", label=\"CT interpolation\")\n",
    "\n",
    "plt.plot(energy_discrete_levels, discrete_levels, color=\"#D65108\", label=\"Known levels\")\n",
    "\n",
    "ax.yaxis.set_minor_locator(AutoMinorLocator())\n",
    "ax.xaxis.set_minor_locator(AutoMinorLocator())\n",
    "ax.set_xlabel('Excitation Energy [MeV]')\n",
    "ax.set_ylabel('Nuclear Level Density')\n",
    "\n",
    "fig.show()\n"
   ]
  },
  {
   "cell_type": "code",
   "execution_count": null,
   "metadata": {},
   "outputs": [],
   "source": []
  }
 ],
 "metadata": {
  "kernelspec": {
   "display_name": "Python 3",
   "language": "python",
   "name": "python3"
  },
  "language_info": {
   "codemirror_mode": {
    "name": "ipython",
    "version": 3
   },
   "file_extension": ".py",
   "mimetype": "text/x-python",
   "name": "python",
   "nbconvert_exporter": "python",
   "pygments_lexer": "ipython3",
   "version": "3.7.3"
  }
 },
 "nbformat": 4,
 "nbformat_minor": 4
}
